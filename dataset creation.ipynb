{
 "cells": [
  {
   "cell_type": "code",
   "execution_count": 1,
   "metadata": {},
   "outputs": [],
   "source": [
    "#Importing the libraries and packages\n",
    "import pandas as pd\n",
    "import csv\n",
    "import nltk\n",
    "from vaderSentiment.vaderSentiment import SentimentIntensityAnalyzer\n",
    "from nltk.corpus import stopwords\n",
    "from nltk.tokenize import word_tokenize\n",
    "from nltk.stem import WordNetLemmatizer\n",
    "from sklearn.feature_extraction.text import TfidfVectorizer\n",
    "import numpy as np\n",
    "import sklearn\n",
    "import re #Regular expression operations"
   ]
  },
  {
   "cell_type": "code",
   "execution_count": 2,
   "metadata": {},
   "outputs": [
    {
     "data": {
      "text/html": [
       "<div>\n",
       "<style scoped>\n",
       "    .dataframe tbody tr th:only-of-type {\n",
       "        vertical-align: middle;\n",
       "    }\n",
       "\n",
       "    .dataframe tbody tr th {\n",
       "        vertical-align: top;\n",
       "    }\n",
       "\n",
       "    .dataframe thead th {\n",
       "        text-align: right;\n",
       "    }\n",
       "</style>\n",
       "<table border=\"1\" class=\"dataframe\">\n",
       "  <thead>\n",
       "    <tr style=\"text-align: right;\">\n",
       "      <th></th>\n",
       "      <th>Artist</th>\n",
       "      <th>Title</th>\n",
       "      <th>Album</th>\n",
       "      <th>Date</th>\n",
       "      <th>Lyric</th>\n",
       "      <th>Year</th>\n",
       "      <th>Unnamed: 0</th>\n",
       "    </tr>\n",
       "  </thead>\n",
       "  <tbody>\n",
       "    <tr>\n",
       "      <th>0</th>\n",
       "      <td>Ariana Grande</td>\n",
       "      <td>​thank u, next</td>\n",
       "      <td>thank u, next</td>\n",
       "      <td>2018-11-03</td>\n",
       "      <td>thought i'd end up with sean but he wasn't a m...</td>\n",
       "      <td>2018</td>\n",
       "      <td>NaN</td>\n",
       "    </tr>\n",
       "    <tr>\n",
       "      <th>1</th>\n",
       "      <td>Ariana Grande</td>\n",
       "      <td>7 rings</td>\n",
       "      <td>thank u, next</td>\n",
       "      <td>2019-01-18</td>\n",
       "      <td>yeah breakfast at tiffany's and bottles of bub...</td>\n",
       "      <td>2019</td>\n",
       "      <td>NaN</td>\n",
       "    </tr>\n",
       "    <tr>\n",
       "      <th>2</th>\n",
       "      <td>Ariana Grande</td>\n",
       "      <td>​God is a woman</td>\n",
       "      <td>Sweetener</td>\n",
       "      <td>2018-07-13</td>\n",
       "      <td>you you love it how i move you you love it how...</td>\n",
       "      <td>2018</td>\n",
       "      <td>NaN</td>\n",
       "    </tr>\n",
       "    <tr>\n",
       "      <th>3</th>\n",
       "      <td>Ariana Grande</td>\n",
       "      <td>Side To Side</td>\n",
       "      <td>Dangerous Woman</td>\n",
       "      <td>2016-05-20</td>\n",
       "      <td>ariana grande  nicki minaj i've been here all ...</td>\n",
       "      <td>2016</td>\n",
       "      <td>NaN</td>\n",
       "    </tr>\n",
       "    <tr>\n",
       "      <th>4</th>\n",
       "      <td>Ariana Grande</td>\n",
       "      <td>​​no tears left to cry</td>\n",
       "      <td>Sweetener</td>\n",
       "      <td>2018-04-20</td>\n",
       "      <td>right now i'm in a state of mind i wanna be in...</td>\n",
       "      <td>2018</td>\n",
       "      <td>NaN</td>\n",
       "    </tr>\n",
       "  </tbody>\n",
       "</table>\n",
       "</div>"
      ],
      "text/plain": [
       "          Artist                   Title            Album        Date  \\\n",
       "0  Ariana Grande          ​thank u, next    thank u, next  2018-11-03   \n",
       "1  Ariana Grande                 7 rings    thank u, next  2019-01-18   \n",
       "2  Ariana Grande         ​God is a woman        Sweetener  2018-07-13   \n",
       "3  Ariana Grande            Side To Side  Dangerous Woman  2016-05-20   \n",
       "4  Ariana Grande  ​​no tears left to cry        Sweetener  2018-04-20   \n",
       "\n",
       "                                               Lyric  Year  Unnamed: 0  \n",
       "0  thought i'd end up with sean but he wasn't a m...  2018         NaN  \n",
       "1  yeah breakfast at tiffany's and bottles of bub...  2019         NaN  \n",
       "2  you you love it how i move you you love it how...  2018         NaN  \n",
       "3  ariana grande  nicki minaj i've been here all ...  2016         NaN  \n",
       "4  right now i'm in a state of mind i wanna be in...  2018         NaN  "
      ]
     },
     "execution_count": 2,
     "metadata": {},
     "output_type": "execute_result"
    }
   ],
   "source": [
    "#Importing the song lyrics of artists and combining them\n",
    "df_ar = pd.read_csv(\"C:/Users/Lenovo/Downloads/archive/csv/ArianaGrande.csv\")\n",
    "df_be = pd.read_csv(\"C:/Users/Lenovo/Downloads/archive/csv/Beyonce.csv\")\n",
    "df_bi = pd.read_csv(\"C:/Users/Lenovo/Downloads/archive/csv/BillieEilish.csv\")\n",
    "df_ca = pd.read_csv(\"C:/Users/Lenovo/Downloads/archive/csv/CardiB.csv\")\n",
    "df_ch = pd.read_csv(\"C:/Users/Lenovo/Downloads/archive/csv/CharliePuth.csv\")\n",
    "df_co = pd.read_csv(\"C:/Users/Lenovo/Downloads/archive/csv/ColdPlay.csv\")\n",
    "df_dr = pd.read_csv(\"C:/Users/Lenovo/Downloads/archive/csv/Drake.csv\")\n",
    "df_du = pd.read_csv(\"C:/Users/Lenovo/Downloads/archive/csv/DuaLipa.csv\")\n",
    "df_ed = pd.read_csv(\"C:/Users/Lenovo/Downloads/archive/csv/EdSheeran.csv\")\n",
    "df_em = pd.read_csv(\"C:/Users/Lenovo/Downloads/archive/csv/Eminem.csv\")\n",
    "df_ju = pd.read_csv(\"C:/Users/Lenovo/Downloads/archive/csv/JustinBieber.csv\")\n",
    "df_ka = pd.read_csv(\"C:/Users/Lenovo/Downloads/archive/csv/KatyPerry.csv\")\n",
    "df_kh = pd.read_csv(\"C:/Users/Lenovo/Downloads/archive/csv/Khalid.csv\")\n",
    "df_la = pd.read_csv(\"C:/Users/Lenovo/Downloads/archive/csv/LadyGaga.csv\")\n",
    "df_ma = pd.read_csv(\"C:/Users/Lenovo/Downloads/archive/csv/Maroon5.csv\")\n",
    "df_ni = pd.read_csv(\"C:/Users/Lenovo/Downloads/archive/csv/NickiMinaj.csv\")\n",
    "df_po = pd.read_csv(\"C:/Users/Lenovo/Downloads/archive/csv/PostMalone.csv\")\n",
    "df_ri = pd.read_csv(\"C:/Users/Lenovo/Downloads/archive/csv/Rihanna.csv\")\n",
    "df_se = pd.read_csv(\"C:/Users/Lenovo/Downloads/archive/csv/SelenaGomez.csv\")\n",
    "df_ta = pd.read_csv(\"C:/Users/Lenovo/Downloads/archive/csv/TaylorSwift.csv\")\n",
    "df_all = [df_ar, df_be, df_bi, df_ca, df_ch, df_ch, df_co, df_dr, df_du, df_ed, df_em, df_ju, df_ka, \n",
    "          df_kh, df_la, df_ma, df_ni, df_po, df_ri, df_se, df_ta] \n",
    "df = pd.concat(df_all) #Making the combined dataset a pandas dataframe\n",
    "df.head()"
   ]
  },
  {
   "cell_type": "code",
   "execution_count": 3,
   "metadata": {},
   "outputs": [],
   "source": [
    "#Cleaning and organizing the dataset\n",
    "del df[\"Unnamed: 0\"]\n",
    "del df[\"Year\"]\n",
    "df.drop(df.loc[df['Album'] == \"Unreleased Songs\"].index, inplace=True)\n",
    "df = df.dropna()"
   ]
  },
  {
   "cell_type": "code",
   "execution_count": 4,
   "metadata": {},
   "outputs": [
    {
     "data": {
      "text/plain": [
       "Artist\n",
       "Ariana Grande     53\n",
       "Beyoncé           62\n",
       "Billie Eilish     42\n",
       "Cardi B           26\n",
       "Charlie Puth      54\n",
       "Coldplay          61\n",
       "Drake             73\n",
       "Dua Lipa          45\n",
       "Ed Sheeran        48\n",
       "Eminem            77\n",
       "Justin Bieber     54\n",
       "Katy Perry        52\n",
       "Khalid            32\n",
       "Lady Gaga         59\n",
       "Maroon 5          43\n",
       "Nicki Minaj       47\n",
       "Post Malone       42\n",
       "Rihanna           92\n",
       "Selena Gomez      44\n",
       "Taylor Swift     106\n",
       "Name: Title, dtype: int64"
      ]
     },
     "execution_count": 4,
     "metadata": {},
     "output_type": "execute_result"
    }
   ],
   "source": [
    "df.groupby(\"Artist\")[\"Title\"].count() #Info about the artists and songs"
   ]
  },
  {
   "cell_type": "code",
   "execution_count": 5,
   "metadata": {},
   "outputs": [],
   "source": [
    "#Getting the sentiment score using VADER module\n",
    "analyzer = SentimentIntensityAnalyzer()\n",
    "df['compound'] = [analyzer.polarity_scores(x)['compound'] for x in df['Lyric']]\n",
    "df['neg'] = [analyzer.polarity_scores(x)['neg'] for x in df['Lyric']]\n",
    "df['neu'] = [analyzer.polarity_scores(x)['neu'] for x in df['Lyric']]\n",
    "df['pos'] = [analyzer.polarity_scores(x)['pos'] for x in df['Lyric']]"
   ]
  },
  {
   "cell_type": "code",
   "execution_count": 6,
   "metadata": {},
   "outputs": [
    {
     "data": {
      "text/html": [
       "<div>\n",
       "<style scoped>\n",
       "    .dataframe tbody tr th:only-of-type {\n",
       "        vertical-align: middle;\n",
       "    }\n",
       "\n",
       "    .dataframe tbody tr th {\n",
       "        vertical-align: top;\n",
       "    }\n",
       "\n",
       "    .dataframe thead th {\n",
       "        text-align: right;\n",
       "    }\n",
       "</style>\n",
       "<table border=\"1\" class=\"dataframe\">\n",
       "  <thead>\n",
       "    <tr style=\"text-align: right;\">\n",
       "      <th></th>\n",
       "      <th>Artist</th>\n",
       "      <th>Title</th>\n",
       "      <th>Album</th>\n",
       "      <th>Date</th>\n",
       "      <th>Lyric</th>\n",
       "      <th>compound</th>\n",
       "      <th>neg</th>\n",
       "      <th>neu</th>\n",
       "      <th>pos</th>\n",
       "    </tr>\n",
       "  </thead>\n",
       "  <tbody>\n",
       "    <tr>\n",
       "      <th>0</th>\n",
       "      <td>Ariana Grande</td>\n",
       "      <td>​thank u, next</td>\n",
       "      <td>thank u, next</td>\n",
       "      <td>2018-11-03</td>\n",
       "      <td>thought i'd end up with sean but he wasn't a m...</td>\n",
       "      <td>0.9998</td>\n",
       "      <td>0.061</td>\n",
       "      <td>0.517</td>\n",
       "      <td>0.422</td>\n",
       "    </tr>\n",
       "    <tr>\n",
       "      <th>1</th>\n",
       "      <td>Ariana Grande</td>\n",
       "      <td>7 rings</td>\n",
       "      <td>thank u, next</td>\n",
       "      <td>2019-01-18</td>\n",
       "      <td>yeah breakfast at tiffany's and bottles of bub...</td>\n",
       "      <td>0.9983</td>\n",
       "      <td>0.058</td>\n",
       "      <td>0.686</td>\n",
       "      <td>0.256</td>\n",
       "    </tr>\n",
       "    <tr>\n",
       "      <th>2</th>\n",
       "      <td>Ariana Grande</td>\n",
       "      <td>​God is a woman</td>\n",
       "      <td>Sweetener</td>\n",
       "      <td>2018-07-13</td>\n",
       "      <td>you you love it how i move you you love it how...</td>\n",
       "      <td>0.9982</td>\n",
       "      <td>0.010</td>\n",
       "      <td>0.759</td>\n",
       "      <td>0.231</td>\n",
       "    </tr>\n",
       "    <tr>\n",
       "      <th>3</th>\n",
       "      <td>Ariana Grande</td>\n",
       "      <td>Side To Side</td>\n",
       "      <td>Dangerous Woman</td>\n",
       "      <td>2016-05-20</td>\n",
       "      <td>ariana grande  nicki minaj i've been here all ...</td>\n",
       "      <td>-0.6497</td>\n",
       "      <td>0.067</td>\n",
       "      <td>0.868</td>\n",
       "      <td>0.065</td>\n",
       "    </tr>\n",
       "    <tr>\n",
       "      <th>4</th>\n",
       "      <td>Ariana Grande</td>\n",
       "      <td>​​no tears left to cry</td>\n",
       "      <td>Sweetener</td>\n",
       "      <td>2018-04-20</td>\n",
       "      <td>right now i'm in a state of mind i wanna be in...</td>\n",
       "      <td>0.7234</td>\n",
       "      <td>0.113</td>\n",
       "      <td>0.748</td>\n",
       "      <td>0.139</td>\n",
       "    </tr>\n",
       "  </tbody>\n",
       "</table>\n",
       "</div>"
      ],
      "text/plain": [
       "          Artist                   Title            Album        Date  \\\n",
       "0  Ariana Grande          ​thank u, next    thank u, next  2018-11-03   \n",
       "1  Ariana Grande                 7 rings    thank u, next  2019-01-18   \n",
       "2  Ariana Grande         ​God is a woman        Sweetener  2018-07-13   \n",
       "3  Ariana Grande            Side To Side  Dangerous Woman  2016-05-20   \n",
       "4  Ariana Grande  ​​no tears left to cry        Sweetener  2018-04-20   \n",
       "\n",
       "                                               Lyric  compound    neg    neu  \\\n",
       "0  thought i'd end up with sean but he wasn't a m...    0.9998  0.061  0.517   \n",
       "1  yeah breakfast at tiffany's and bottles of bub...    0.9983  0.058  0.686   \n",
       "2  you you love it how i move you you love it how...    0.9982  0.010  0.759   \n",
       "3  ariana grande  nicki minaj i've been here all ...   -0.6497  0.067  0.868   \n",
       "4  right now i'm in a state of mind i wanna be in...    0.7234  0.113  0.748   \n",
       "\n",
       "     pos  \n",
       "0  0.422  \n",
       "1  0.256  \n",
       "2  0.231  \n",
       "3  0.065  \n",
       "4  0.139  "
      ]
     },
     "execution_count": 6,
     "metadata": {},
     "output_type": "execute_result"
    }
   ],
   "source": [
    "df.head()"
   ]
  },
  {
   "cell_type": "code",
   "execution_count": 7,
   "metadata": {},
   "outputs": [],
   "source": [
    "#Creating a function to decide on the sentiment of the songs by using the compound score interval for VADER\n",
    "def categorise(row):  \n",
    "    if row['compound'] >= 0.05:\n",
    "        return 'Positive'\n",
    "    elif row['compound'] > -0.05 and row['compound'] < 0.05:\n",
    "        return 'Neutral'\n",
    "    elif row['compound'] <= -0.05:\n",
    "        return 'Negative'"
   ]
  },
  {
   "cell_type": "code",
   "execution_count": 8,
   "metadata": {
    "scrolled": true
   },
   "outputs": [
    {
     "data": {
      "text/html": [
       "<div>\n",
       "<style scoped>\n",
       "    .dataframe tbody tr th:only-of-type {\n",
       "        vertical-align: middle;\n",
       "    }\n",
       "\n",
       "    .dataframe tbody tr th {\n",
       "        vertical-align: top;\n",
       "    }\n",
       "\n",
       "    .dataframe thead th {\n",
       "        text-align: right;\n",
       "    }\n",
       "</style>\n",
       "<table border=\"1\" class=\"dataframe\">\n",
       "  <thead>\n",
       "    <tr style=\"text-align: right;\">\n",
       "      <th></th>\n",
       "      <th>Artist</th>\n",
       "      <th>Title</th>\n",
       "      <th>Album</th>\n",
       "      <th>Date</th>\n",
       "      <th>Lyric</th>\n",
       "      <th>compound</th>\n",
       "      <th>neg</th>\n",
       "      <th>neu</th>\n",
       "      <th>pos</th>\n",
       "      <th>VADER sentiment</th>\n",
       "    </tr>\n",
       "  </thead>\n",
       "  <tbody>\n",
       "    <tr>\n",
       "      <th>21</th>\n",
       "      <td>Billie Eilish</td>\n",
       "      <td>​my boy</td>\n",
       "      <td>dont smile at me</td>\n",
       "      <td>2017-07-28</td>\n",
       "      <td>three and four and babada babadabada mmm mmm  ...</td>\n",
       "      <td>0.9992</td>\n",
       "      <td>0.143</td>\n",
       "      <td>0.448</td>\n",
       "      <td>0.409</td>\n",
       "      <td>Positive</td>\n",
       "    </tr>\n",
       "    <tr>\n",
       "      <th>7</th>\n",
       "      <td>Coldplay</td>\n",
       "      <td>Adventure of a Lifetime</td>\n",
       "      <td>A Head Full of Dreams</td>\n",
       "      <td>2015-11-06</td>\n",
       "      <td>indecipherable   turn your magic on umi she'd ...</td>\n",
       "      <td>0.9981</td>\n",
       "      <td>0.060</td>\n",
       "      <td>0.601</td>\n",
       "      <td>0.339</td>\n",
       "      <td>Positive</td>\n",
       "    </tr>\n",
       "    <tr>\n",
       "      <th>28</th>\n",
       "      <td>Katy Perry</td>\n",
       "      <td>Small Talk</td>\n",
       "      <td>Smile (Fan Edition)</td>\n",
       "      <td>2019-08-09</td>\n",
       "      <td>isn't it strange that you used to know me all ...</td>\n",
       "      <td>0.9911</td>\n",
       "      <td>0.074</td>\n",
       "      <td>0.760</td>\n",
       "      <td>0.166</td>\n",
       "      <td>Positive</td>\n",
       "    </tr>\n",
       "    <tr>\n",
       "      <th>2</th>\n",
       "      <td>Eminem</td>\n",
       "      <td>Godzilla</td>\n",
       "      <td>Music to Be Murdered By</td>\n",
       "      <td>2020-01-17</td>\n",
       "      <td>ugh you're a monster   eminem i can swallow a ...</td>\n",
       "      <td>-0.9973</td>\n",
       "      <td>0.165</td>\n",
       "      <td>0.712</td>\n",
       "      <td>0.123</td>\n",
       "      <td>Negative</td>\n",
       "    </tr>\n",
       "    <tr>\n",
       "      <th>337</th>\n",
       "      <td>Beyoncé</td>\n",
       "      <td>Irreplaceable (Beyoncé Experience Live)</td>\n",
       "      <td>The Beyoncé Experience Live</td>\n",
       "      <td>2007-11-16</td>\n",
       "      <td>to the left to the left to the left to the lef...</td>\n",
       "      <td>0.8750</td>\n",
       "      <td>0.022</td>\n",
       "      <td>0.927</td>\n",
       "      <td>0.051</td>\n",
       "      <td>Positive</td>\n",
       "    </tr>\n",
       "  </tbody>\n",
       "</table>\n",
       "</div>"
      ],
      "text/plain": [
       "            Artist                                    Title  \\\n",
       "21   Billie Eilish                                  ​my boy   \n",
       "7         Coldplay                  Adventure of a Lifetime   \n",
       "28      Katy Perry                               Small Talk   \n",
       "2           Eminem                                 Godzilla   \n",
       "337        Beyoncé  Irreplaceable (Beyoncé Experience Live)   \n",
       "\n",
       "                           Album        Date  \\\n",
       "21              dont smile at me  2017-07-28   \n",
       "7          A Head Full of Dreams  2015-11-06   \n",
       "28           Smile (Fan Edition)  2019-08-09   \n",
       "2        Music to Be Murdered By  2020-01-17   \n",
       "337  The Beyoncé Experience Live  2007-11-16   \n",
       "\n",
       "                                                 Lyric  compound    neg  \\\n",
       "21   three and four and babada babadabada mmm mmm  ...    0.9992  0.143   \n",
       "7    indecipherable   turn your magic on umi she'd ...    0.9981  0.060   \n",
       "28   isn't it strange that you used to know me all ...    0.9911  0.074   \n",
       "2    ugh you're a monster   eminem i can swallow a ...   -0.9973  0.165   \n",
       "337  to the left to the left to the left to the lef...    0.8750  0.022   \n",
       "\n",
       "       neu    pos VADER sentiment  \n",
       "21   0.448  0.409        Positive  \n",
       "7    0.601  0.339        Positive  \n",
       "28   0.760  0.166        Positive  \n",
       "2    0.712  0.123        Negative  \n",
       "337  0.927  0.051        Positive  "
      ]
     },
     "execution_count": 8,
     "metadata": {},
     "output_type": "execute_result"
    }
   ],
   "source": [
    "#Applying the function to the dataframe and creating a column for the sentiment decided on using VADER module\n",
    "df['VADER sentiment'] = df.apply(lambda row: categorise(row), axis=1)\n",
    "df.sample(5)"
   ]
  },
  {
   "cell_type": "code",
   "execution_count": 9,
   "metadata": {},
   "outputs": [
    {
     "data": {
      "text/plain": [
       "758"
      ]
     },
     "execution_count": 9,
     "metadata": {},
     "output_type": "execute_result"
    }
   ],
   "source": [
    "len(df[df['VADER sentiment'] == \"Positive\"]) #Number of positive songs"
   ]
  },
  {
   "cell_type": "code",
   "execution_count": 10,
   "metadata": {},
   "outputs": [
    {
     "data": {
      "text/plain": [
       "344"
      ]
     },
     "execution_count": 10,
     "metadata": {},
     "output_type": "execute_result"
    }
   ],
   "source": [
    "len(df[df['VADER sentiment'] == \"Negative\"]) #Number of negative songs"
   ]
  },
  {
   "cell_type": "code",
   "execution_count": 11,
   "metadata": {},
   "outputs": [
    {
     "data": {
      "text/plain": [
       "10"
      ]
     },
     "execution_count": 11,
     "metadata": {},
     "output_type": "execute_result"
    }
   ],
   "source": [
    "len(df[df['VADER sentiment'] == \"Neutral\"]) #Number of neutral songs"
   ]
  },
  {
   "cell_type": "code",
   "execution_count": 12,
   "metadata": {},
   "outputs": [],
   "source": [
    "#Dropping the neutral labeled songs from the dataset\n",
    "df = df[df['VADER sentiment'] != 'Neutral']\n",
    "df.to_csv(r'C:\\Users\\Lenovo\\Desktop\\bitirme\\data\\vader_dataset.csv', index=False)"
   ]
  }
 ],
 "metadata": {
  "kernelspec": {
   "display_name": "Python 3",
   "language": "python",
   "name": "python3"
  },
  "language_info": {
   "codemirror_mode": {
    "name": "ipython",
    "version": 3
   },
   "file_extension": ".py",
   "mimetype": "text/x-python",
   "name": "python",
   "nbconvert_exporter": "python",
   "pygments_lexer": "ipython3",
   "version": "3.8.3"
  }
 },
 "nbformat": 4,
 "nbformat_minor": 4
}
