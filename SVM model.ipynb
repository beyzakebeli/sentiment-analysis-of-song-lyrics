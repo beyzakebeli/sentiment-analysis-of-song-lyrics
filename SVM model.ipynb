{
 "cells": [
  {
   "cell_type": "code",
   "execution_count": 1,
   "metadata": {},
   "outputs": [
    {
     "data": {
      "text/html": [
       "<div>\n",
       "<style scoped>\n",
       "    .dataframe tbody tr th:only-of-type {\n",
       "        vertical-align: middle;\n",
       "    }\n",
       "\n",
       "    .dataframe tbody tr th {\n",
       "        vertical-align: top;\n",
       "    }\n",
       "\n",
       "    .dataframe thead th {\n",
       "        text-align: right;\n",
       "    }\n",
       "</style>\n",
       "<table border=\"1\" class=\"dataframe\">\n",
       "  <thead>\n",
       "    <tr style=\"text-align: right;\">\n",
       "      <th></th>\n",
       "      <th>Artist</th>\n",
       "      <th>Title</th>\n",
       "      <th>Album</th>\n",
       "      <th>Date</th>\n",
       "      <th>Lyric</th>\n",
       "      <th>compound</th>\n",
       "      <th>neg</th>\n",
       "      <th>neu</th>\n",
       "      <th>pos</th>\n",
       "      <th>VADER sentiment</th>\n",
       "    </tr>\n",
       "  </thead>\n",
       "  <tbody>\n",
       "    <tr>\n",
       "      <th>0</th>\n",
       "      <td>Ariana Grande</td>\n",
       "      <td>​thank u, next</td>\n",
       "      <td>thank u, next</td>\n",
       "      <td>2018-11-03</td>\n",
       "      <td>thought i'd end up with sean but he wasn't a m...</td>\n",
       "      <td>0.9998</td>\n",
       "      <td>0.061</td>\n",
       "      <td>0.517</td>\n",
       "      <td>0.422</td>\n",
       "      <td>Positive</td>\n",
       "    </tr>\n",
       "    <tr>\n",
       "      <th>1</th>\n",
       "      <td>Ariana Grande</td>\n",
       "      <td>7 rings</td>\n",
       "      <td>thank u, next</td>\n",
       "      <td>2019-01-18</td>\n",
       "      <td>yeah breakfast at tiffany's and bottles of bub...</td>\n",
       "      <td>0.9983</td>\n",
       "      <td>0.058</td>\n",
       "      <td>0.686</td>\n",
       "      <td>0.256</td>\n",
       "      <td>Positive</td>\n",
       "    </tr>\n",
       "    <tr>\n",
       "      <th>2</th>\n",
       "      <td>Ariana Grande</td>\n",
       "      <td>​God is a woman</td>\n",
       "      <td>Sweetener</td>\n",
       "      <td>2018-07-13</td>\n",
       "      <td>you you love it how i move you you love it how...</td>\n",
       "      <td>0.9982</td>\n",
       "      <td>0.010</td>\n",
       "      <td>0.759</td>\n",
       "      <td>0.231</td>\n",
       "      <td>Positive</td>\n",
       "    </tr>\n",
       "    <tr>\n",
       "      <th>3</th>\n",
       "      <td>Ariana Grande</td>\n",
       "      <td>Side To Side</td>\n",
       "      <td>Dangerous Woman</td>\n",
       "      <td>2016-05-20</td>\n",
       "      <td>ariana grande  nicki minaj i've been here all ...</td>\n",
       "      <td>-0.6497</td>\n",
       "      <td>0.067</td>\n",
       "      <td>0.868</td>\n",
       "      <td>0.065</td>\n",
       "      <td>Negative</td>\n",
       "    </tr>\n",
       "    <tr>\n",
       "      <th>4</th>\n",
       "      <td>Ariana Grande</td>\n",
       "      <td>​​no tears left to cry</td>\n",
       "      <td>Sweetener</td>\n",
       "      <td>2018-04-20</td>\n",
       "      <td>right now i'm in a state of mind i wanna be in...</td>\n",
       "      <td>0.7234</td>\n",
       "      <td>0.113</td>\n",
       "      <td>0.748</td>\n",
       "      <td>0.139</td>\n",
       "      <td>Positive</td>\n",
       "    </tr>\n",
       "    <tr>\n",
       "      <th>...</th>\n",
       "      <td>...</td>\n",
       "      <td>...</td>\n",
       "      <td>...</td>\n",
       "      <td>...</td>\n",
       "      <td>...</td>\n",
       "      <td>...</td>\n",
       "      <td>...</td>\n",
       "      <td>...</td>\n",
       "      <td>...</td>\n",
       "      <td>...</td>\n",
       "    </tr>\n",
       "    <tr>\n",
       "      <th>1097</th>\n",
       "      <td>Taylor Swift</td>\n",
       "      <td>Teardrops on My Guitar (Live from SoHo)</td>\n",
       "      <td>Live from SoHo - EP</td>\n",
       "      <td>2008-01-15</td>\n",
       "      <td>drew looks at me i  fake a smile so he won't s...</td>\n",
       "      <td>0.9618</td>\n",
       "      <td>0.033</td>\n",
       "      <td>0.847</td>\n",
       "      <td>0.120</td>\n",
       "      <td>Positive</td>\n",
       "    </tr>\n",
       "    <tr>\n",
       "      <th>1098</th>\n",
       "      <td>Taylor Swift</td>\n",
       "      <td>Picture To Burn (Live from Clear Channel Strip...</td>\n",
       "      <td>Live From Clear Channel Stripped 2008</td>\n",
       "      <td>2008-07-28</td>\n",
       "      <td>state the obvious i didn't get my perfect fant...</td>\n",
       "      <td>-0.9980</td>\n",
       "      <td>0.302</td>\n",
       "      <td>0.633</td>\n",
       "      <td>0.064</td>\n",
       "      <td>Negative</td>\n",
       "    </tr>\n",
       "    <tr>\n",
       "      <th>1099</th>\n",
       "      <td>Taylor Swift</td>\n",
       "      <td>Rare Peer (Brenda Lee Tribute)</td>\n",
       "      <td>Woman Walk The Line</td>\n",
       "      <td>2017-09-20</td>\n",
       "      <td>i'm curled up in my mother's bed staring inten...</td>\n",
       "      <td>0.9980</td>\n",
       "      <td>0.032</td>\n",
       "      <td>0.791</td>\n",
       "      <td>0.178</td>\n",
       "      <td>Positive</td>\n",
       "    </tr>\n",
       "    <tr>\n",
       "      <th>1100</th>\n",
       "      <td>Taylor Swift</td>\n",
       "      <td>Should’ve Said No (Live from Clear Channel Str...</td>\n",
       "      <td>Live From Clear Channel Stripped 2008</td>\n",
       "      <td>2008-06-28</td>\n",
       "      <td>it's strange to think the songs we used to sin...</td>\n",
       "      <td>0.8174</td>\n",
       "      <td>0.066</td>\n",
       "      <td>0.845</td>\n",
       "      <td>0.089</td>\n",
       "      <td>Positive</td>\n",
       "    </tr>\n",
       "    <tr>\n",
       "      <th>1101</th>\n",
       "      <td>Taylor Swift</td>\n",
       "      <td>Teardrops on my Guitar (Live from Clear Channe...</td>\n",
       "      <td>Live From Clear Channel Stripped 2008</td>\n",
       "      <td>2008-06-28</td>\n",
       "      <td>drew looks at me i fake a smile so he won't se...</td>\n",
       "      <td>0.9687</td>\n",
       "      <td>0.032</td>\n",
       "      <td>0.841</td>\n",
       "      <td>0.128</td>\n",
       "      <td>Positive</td>\n",
       "    </tr>\n",
       "  </tbody>\n",
       "</table>\n",
       "<p>1102 rows × 10 columns</p>\n",
       "</div>"
      ],
      "text/plain": [
       "             Artist                                              Title  \\\n",
       "0     Ariana Grande                                     ​thank u, next   \n",
       "1     Ariana Grande                                            7 rings   \n",
       "2     Ariana Grande                                    ​God is a woman   \n",
       "3     Ariana Grande                                       Side To Side   \n",
       "4     Ariana Grande                             ​​no tears left to cry   \n",
       "...             ...                                                ...   \n",
       "1097   Taylor Swift            Teardrops on My Guitar (Live from SoHo)   \n",
       "1098   Taylor Swift  Picture To Burn (Live from Clear Channel Strip...   \n",
       "1099   Taylor Swift                     Rare Peer (Brenda Lee Tribute)   \n",
       "1100   Taylor Swift  Should’ve Said No (Live from Clear Channel Str...   \n",
       "1101   Taylor Swift  Teardrops on my Guitar (Live from Clear Channe...   \n",
       "\n",
       "                                       Album        Date  \\\n",
       "0                              thank u, next  2018-11-03   \n",
       "1                              thank u, next  2019-01-18   \n",
       "2                                  Sweetener  2018-07-13   \n",
       "3                            Dangerous Woman  2016-05-20   \n",
       "4                                  Sweetener  2018-04-20   \n",
       "...                                      ...         ...   \n",
       "1097                     Live from SoHo - EP  2008-01-15   \n",
       "1098  Live From Clear Channel Stripped 2008   2008-07-28   \n",
       "1099                    Woman Walk The Line   2017-09-20   \n",
       "1100  Live From Clear Channel Stripped 2008   2008-06-28   \n",
       "1101  Live From Clear Channel Stripped 2008   2008-06-28   \n",
       "\n",
       "                                                  Lyric  compound    neg  \\\n",
       "0     thought i'd end up with sean but he wasn't a m...    0.9998  0.061   \n",
       "1     yeah breakfast at tiffany's and bottles of bub...    0.9983  0.058   \n",
       "2     you you love it how i move you you love it how...    0.9982  0.010   \n",
       "3     ariana grande  nicki minaj i've been here all ...   -0.6497  0.067   \n",
       "4     right now i'm in a state of mind i wanna be in...    0.7234  0.113   \n",
       "...                                                 ...       ...    ...   \n",
       "1097  drew looks at me i  fake a smile so he won't s...    0.9618  0.033   \n",
       "1098  state the obvious i didn't get my perfect fant...   -0.9980  0.302   \n",
       "1099  i'm curled up in my mother's bed staring inten...    0.9980  0.032   \n",
       "1100  it's strange to think the songs we used to sin...    0.8174  0.066   \n",
       "1101  drew looks at me i fake a smile so he won't se...    0.9687  0.032   \n",
       "\n",
       "        neu    pos VADER sentiment  \n",
       "0     0.517  0.422        Positive  \n",
       "1     0.686  0.256        Positive  \n",
       "2     0.759  0.231        Positive  \n",
       "3     0.868  0.065        Negative  \n",
       "4     0.748  0.139        Positive  \n",
       "...     ...    ...             ...  \n",
       "1097  0.847  0.120        Positive  \n",
       "1098  0.633  0.064        Negative  \n",
       "1099  0.791  0.178        Positive  \n",
       "1100  0.845  0.089        Positive  \n",
       "1101  0.841  0.128        Positive  \n",
       "\n",
       "[1102 rows x 10 columns]"
      ]
     },
     "execution_count": 1,
     "metadata": {},
     "output_type": "execute_result"
    }
   ],
   "source": [
    "from sklearn.feature_extraction.text import TfidfVectorizer\n",
    "import numpy as np\n",
    "import pandas as pd\n",
    "import sklearn\n",
    "df = pd.read_csv(r'C:\\Users\\Lenovo\\Desktop\\bitirme\\data\\vader_dataset.csv')\n",
    "df"
   ]
  },
  {
   "cell_type": "code",
   "execution_count": 2,
   "metadata": {},
   "outputs": [],
   "source": [
    "training_data = df.sample(frac=0.8, random_state=25) #pandas function sample\n",
    "testing_data = df.drop(training_data.index)"
   ]
  },
  {
   "cell_type": "code",
   "execution_count": 3,
   "metadata": {},
   "outputs": [
    {
     "data": {
      "text/plain": [
       "608"
      ]
     },
     "execution_count": 3,
     "metadata": {},
     "output_type": "execute_result"
    }
   ],
   "source": [
    "len(training_data[training_data['VADER sentiment'] == \"Positive\"])"
   ]
  },
  {
   "cell_type": "code",
   "execution_count": 4,
   "metadata": {},
   "outputs": [
    {
     "data": {
      "text/plain": [
       "274"
      ]
     },
     "execution_count": 4,
     "metadata": {},
     "output_type": "execute_result"
    }
   ],
   "source": [
    "len(training_data[training_data['VADER sentiment'] == \"Negative\"])"
   ]
  },
  {
   "cell_type": "code",
   "execution_count": 5,
   "metadata": {},
   "outputs": [
    {
     "data": {
      "text/plain": [
       "150"
      ]
     },
     "execution_count": 5,
     "metadata": {},
     "output_type": "execute_result"
    }
   ],
   "source": [
    "len(testing_data[testing_data['VADER sentiment'] == \"Positive\"])"
   ]
  },
  {
   "cell_type": "code",
   "execution_count": 6,
   "metadata": {
    "scrolled": true
   },
   "outputs": [
    {
     "data": {
      "text/plain": [
       "70"
      ]
     },
     "execution_count": 6,
     "metadata": {},
     "output_type": "execute_result"
    }
   ],
   "source": [
    "len(testing_data[testing_data['VADER sentiment'] == \"Negative\"])"
   ]
  },
  {
   "cell_type": "markdown",
   "metadata": {},
   "source": [
    "The fact that the ratio of positive to negative in both training and test datasets is close increased the f1-score for the negative songs. "
   ]
  },
  {
   "cell_type": "code",
   "execution_count": 7,
   "metadata": {},
   "outputs": [],
   "source": [
    "#Using Tfidf model for vectorizing the lyrics\n",
    "vectorizer = TfidfVectorizer(sublinear_tf=True, use_idf = True, stop_words = 'english')\n",
    "train_vectors = vectorizer.fit_transform(training_data['Lyric'])\n",
    "test_vectors = vectorizer.transform(testing_data['Lyric'])"
   ]
  },
  {
   "cell_type": "code",
   "execution_count": 8,
   "metadata": {},
   "outputs": [
    {
     "name": "stdout",
     "output_type": "stream",
     "text": [
      "Training time: 0.497599s; Prediction time: 0.124911s\n",
      "positive:  {'precision': 0.8333333333333334, 'recall': 0.9666666666666667, 'f1-score': 0.8950617283950617, 'support': 150}\n",
      "negative:  {'precision': 0.8913043478260869, 'recall': 0.5857142857142857, 'f1-score': 0.7068965517241379, 'support': 70}\n"
     ]
    }
   ],
   "source": [
    "import time\n",
    "from sklearn import svm\n",
    "from sklearn.metrics import classification_report\n",
    "#Classification with SVM and kernel is linear\n",
    "classifier_linear = svm.SVC(kernel='linear')\n",
    "t0 = time.time()\n",
    "classifier_linear.fit(train_vectors, training_data['VADER sentiment'])\n",
    "t1 = time.time()\n",
    "prediction_linear = classifier_linear.predict(test_vectors)\n",
    "t2 = time.time()\n",
    "time_linear_train = t1-t0\n",
    "time_linear_predict = t2-t1\n",
    "# results\n",
    "print(\"Training time: %fs; Prediction time: %fs\" % (time_linear_train, time_linear_predict))\n",
    "report = classification_report(testing_data['VADER sentiment'], prediction_linear, output_dict=True)\n",
    "print('positive: ', report['Positive'])\n",
    "print('negative: ', report['Negative'])"
   ]
  }
 ],
 "metadata": {
  "kernelspec": {
   "display_name": "Python 3",
   "language": "python",
   "name": "python3"
  },
  "language_info": {
   "codemirror_mode": {
    "name": "ipython",
    "version": 3
   },
   "file_extension": ".py",
   "mimetype": "text/x-python",
   "name": "python",
   "nbconvert_exporter": "python",
   "pygments_lexer": "ipython3",
   "version": "3.8.3"
  }
 },
 "nbformat": 4,
 "nbformat_minor": 4
}
